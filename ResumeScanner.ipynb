{
 "cells": [
  {
   "cell_type": "code",
   "execution_count": 5,
   "id": "d8820661",
   "metadata": {},
   "outputs": [],
   "source": [
    "import docx2txt"
   ]
  },
  {
   "cell_type": "code",
   "execution_count": 8,
   "id": "20b2f44a",
   "metadata": {},
   "outputs": [],
   "source": [
    "resume_01 = docx2txt.process('resume_001.docx')\n",
    "resume_02 = docx2txt.process('resume_002.docx')"
   ]
  },
  {
   "cell_type": "code",
   "execution_count": 9,
   "id": "3f464035",
   "metadata": {},
   "outputs": [
    {
     "name": "stdout",
     "output_type": "stream",
     "text": [
      "Summary\n",
      "\n",
      "Senior Web Developer specializing in front end development. Experienced with all stages of the development cycle for dynamic web projects. Well-versed in numerous programming languages including HTML5, PHP OOP, JavaScript, CSS, MySQL. Strong background in project management and customer relations.\n",
      "\n",
      "Skill Highlights\n",
      "\n",
      "Project management\n",
      "\n",
      "Strong decision maker\n",
      "\n",
      "Complex problem solver\n",
      "\n",
      "Creative design\n",
      "\n",
      "Innovative\n",
      "\n",
      "Service-focused\n",
      "\n",
      "Experience\n",
      "\n",
      "Web Developer - 09/2015 to 05/2019\n",
      "\n",
      "Luna Web Design, New York\n",
      "\n",
      "Cooperate with designers to create clean interfaces and simple, intuitive interactions and experiences.\n",
      "\n",
      "Develop project concepts and maintain optimal workflow.\n",
      "\n",
      "Work with senior developer to manage large, complex design projects for corporate clients.\n",
      "\n",
      "Complete detailed programming and development tasks for front end public and internal websites as well as challenging back-end server code.\n",
      "\n",
      "Carry out quality assurance tests to discover errors and optimize usability.\n",
      "\n",
      "Education\n",
      "\n",
      "Bachelor of Science: Computer Information Systems - 2014\n",
      "\n",
      "Columbia University, NY\n",
      "\n",
      "Certifications\n",
      "\n",
      "PHP Framework (certificate): Zend, Codeigniter, Symfony.\n",
      "\n",
      "Programming Languages: JavaScript, HTML5, PHP OOP, CSS, SQL, MySQL.\n",
      "\n",
      "\n",
      "\n",
      "Summary\n",
      "\n",
      "Senior Web Developer specializing in front end development. Experienced with all stages of the development cycle for dynamic web projects. Well-versed in numerous programming languages including HTML5, PHP OOP, JavaScript, CSS, MySQL. Strong background in project management and customer relations.\n",
      "\n",
      "Skill Highlights\n",
      "\n",
      "Project management\n",
      "\n",
      "Strong decision maker\n",
      "\n",
      "Complex problem solver\n",
      "\n",
      "Creative design\n",
      "\n",
      "Innovative\n",
      "\n",
      "Service-focused\n",
      "\n",
      "Experience\n",
      "\n",
      "Web Developer - 09/2015 to 05/2019\n",
      "\n",
      "Luna Web Design, New York\n",
      "\n",
      "Cooperate with designers to create clean interfaces and simple, intuitive interactions and experiences.\n",
      "\n",
      "Develop project concepts and maintain optimal workflow.\n",
      "\n",
      "Work with senior developer to manage large, complex design projects for corporate clients.\n",
      "\n",
      "Complete detailed programming and development tasks for front end public and internal websites as well as challenging back-end server code.\n",
      "\n",
      "Carry out quality assurance tests to discover errors and optimize usability.\n",
      "\n",
      "Education\n",
      "\n",
      "Bachelor of Science: Computer Information Systems - 2014\n",
      "\n",
      "Columbia University, NY\n",
      "\n",
      "Certifications\n",
      "\n",
      "PHP Framework (certificate): Zend, Codeigniter, Symfony.\n",
      "\n",
      "Programming Languages: JavaScript, HTML5, PHP OOP, CSS, SQL, MySQL.\n",
      "\n",
      "\n",
      "\n",
      "MATTHEW ELIOT\n",
      "\n",
      "MATTHEW ELIOT\n",
      "\n",
      "+1 (970) 333-3833  \n",
      "\n",
      "matthew.eliot@mail.com \n",
      "\n",
      "https://linkedin.com/mattheweliot\n",
      "\n",
      "+1 (970) 333-3833  \n",
      "\n",
      "matthew.eliot@mail.com \n",
      "\n",
      "https://linkedin.com/mattheweliot\n"
     ]
    }
   ],
   "source": [
    "print(resume_01)"
   ]
  },
  {
   "cell_type": "code",
   "execution_count": 10,
   "id": "4c0425cd",
   "metadata": {},
   "outputs": [],
   "source": [
    "content = [resume_01, resume_02]\n"
   ]
  },
  {
   "cell_type": "code",
   "execution_count": 11,
   "id": "6287d1fe",
   "metadata": {},
   "outputs": [],
   "source": [
    "from sklearn.feature_extraction.text import CountVectorizer"
   ]
  },
  {
   "cell_type": "code",
   "execution_count": 12,
   "id": "827d26fc",
   "metadata": {},
   "outputs": [],
   "source": [
    "cv = CountVectorizer()\n",
    "mtrix = cv.fit_transform(content)"
   ]
  },
  {
   "cell_type": "code",
   "execution_count": 14,
   "id": "3f7ad3b0",
   "metadata": {},
   "outputs": [],
   "source": [
    "from sklearn.metrics.pairwise import cosine_similarity"
   ]
  },
  {
   "cell_type": "code",
   "execution_count": 15,
   "id": "3db5595e",
   "metadata": {},
   "outputs": [],
   "source": [
    "matrix_similarity = cosine_similarity(mtrix)"
   ]
  },
  {
   "cell_type": "code",
   "execution_count": 16,
   "id": "4d20e07b",
   "metadata": {},
   "outputs": [
    {
     "name": "stdout",
     "output_type": "stream",
     "text": [
      "[[1.         0.50373197]\n",
      " [0.50373197 1.        ]]\n"
     ]
    }
   ],
   "source": [
    "print(matrix_similarity)"
   ]
  },
  {
   "cell_type": "code",
   "execution_count": 18,
   "id": "809bf682",
   "metadata": {},
   "outputs": [
    {
     "name": "stdout",
     "output_type": "stream",
     "text": [
      "This resume is :  50.373196999981964 %\n"
     ]
    }
   ],
   "source": [
    "print(\"This resume is : \", str(matrix_similarity[0][1] * 100),\"%\")"
   ]
  }
 ],
 "metadata": {
  "kernelspec": {
   "display_name": "Python 3 (ipykernel)",
   "language": "python",
   "name": "python3"
  },
  "language_info": {
   "codemirror_mode": {
    "name": "ipython",
    "version": 3
   },
   "file_extension": ".py",
   "mimetype": "text/x-python",
   "name": "python",
   "nbconvert_exporter": "python",
   "pygments_lexer": "ipython3",
   "version": "3.10.4"
  }
 },
 "nbformat": 4,
 "nbformat_minor": 5
}
